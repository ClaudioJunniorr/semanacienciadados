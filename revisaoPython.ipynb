{
 "cells": [
  {
   "cell_type": "markdown",
   "metadata": {},
   "source": [
    "## Aprendemos sobre as Listas"
   ]
  },
  {
   "cell_type": "code",
   "execution_count": 3,
   "metadata": {},
   "outputs": [
    {
     "name": "stdout",
     "output_type": "stream",
     "text": [
      "Residencial\n",
      "comercial\n",
      "fazemda\n"
     ]
    }
   ],
   "source": [
    "# Residemcial, comercial e fazenda\n",
    "tipos_imoveis=['Residencial','comercial','fazemda'] # Lista\n",
    "# Parenteses representam uma tupla\n",
    "# No caso do type, ele mostra o tipo da lista, que é 'list'\n",
    "type(tipos_imoveis)\n",
    "# A lista pode mudar.\n",
    "for i in tipos_imoveis:\n",
    "    print(i)"
   ]
  },
  {
   "cell_type": "markdown",
   "metadata": {},
   "source": [
    "## A lista muda, mas a tupla não muda."
   ]
  },
  {
   "cell_type": "code",
   "execution_count": 4,
   "metadata": {},
   "outputs": [
    {
     "data": {
      "text/plain": [
       "tuple"
      ]
     },
     "execution_count": 4,
     "metadata": {},
     "output_type": "execute_result"
    }
   ],
   "source": [
    "tipos_imoveis=('Residencial','comercial','fazemda') # Tupla\n",
    "type(tipos_imoveis)\n",
    "# As tuplas são usadas para coisas que não podem ser mudadas."
   ]
  },
  {
   "cell_type": "markdown",
   "metadata": {},
   "source": [
    "## Conjuntos e o conceito.\n",
    "Então o conjunto ele tira os valores repetidos."
   ]
  },
  {
   "cell_type": "markdown",
   "metadata": {},
   "source": [
    "- list ( lista ) - [] usa-se colchets e é mutável, pois pode mudar\n",
    "- tuple ( tupla ) - () imutável, pois não permite a alteração de valores e usa-se parênteses.\n",
    "- set (conjuntos) - {} usa-se chaves , e nao permite repetição de valores\n",
    "- Dicionario (Collections) {} - ele se parece com os conjuntos, mas lá dentro voce consegue achar o valor."
   ]
  },
  {
   "cell_type": "markdown",
   "metadata": {},
   "source": [
    "- Criar uma lista de vitória do seu time\n",
    "- Criar uma tupla de fastfood\n",
    "- criar um conjunto de itens de compra do supermercado."
   ]
  },
  {
   "cell_type": "code",
   "execution_count": 5,
   "metadata": {},
   "outputs": [
    {
     "name": "stdout",
     "output_type": "stream",
     "text": [
      "1º flamengo ganhou contra vasco\n",
      "2º Flamengo ganhou contra corinthians\n",
      "3º Flamengo ganhou contra internacional\n"
     ]
    }
   ],
   "source": [
    "# Lista de vitória do seu time\n",
    "vitoriaTime=['1º flamengo ganhou contra vasco','2º Flamengo ganhou contra corinthians','3º Flamengo ganhou contra internacional']\n",
    "for i in vitoriaTime:\n",
    "    print(i)"
   ]
  },
  {
   "cell_type": "code",
   "execution_count": 6,
   "metadata": {},
   "outputs": [
    {
     "data": {
      "text/plain": [
       "list"
      ]
     },
     "execution_count": 6,
     "metadata": {},
     "output_type": "execute_result"
    }
   ],
   "source": [
    "type(vitoriaTime)"
   ]
  },
  {
   "cell_type": "code",
   "execution_count": 7,
   "metadata": {},
   "outputs": [
    {
     "data": {
      "text/plain": [
       "('Hamburguer fome zero', 'Dogao sem molho', 'x salada', 'hamburguer xis bacon')"
      ]
     },
     "execution_count": 7,
     "metadata": {},
     "output_type": "execute_result"
    }
   ],
   "source": [
    "# Criar uma Tupla de fast food\n",
    "fastFood=(\"Hamburguer fome zero\",'Dogao sem molho','x salada','hamburguer xis bacon')\n",
    "fastFood"
   ]
  },
  {
   "cell_type": "code",
   "execution_count": 8,
   "metadata": {},
   "outputs": [
    {
     "data": {
      "text/plain": [
       "tuple"
      ]
     },
     "execution_count": 8,
     "metadata": {},
     "output_type": "execute_result"
    }
   ],
   "source": [
    "type(fastFood)"
   ]
  },
  {
   "cell_type": "code",
   "execution_count": 9,
   "metadata": {},
   "outputs": [
    {
     "data": {
      "text/plain": [
       "{'Azeite', 'Feijao', 'Pao de forma', 'Pao de queijo'}"
      ]
     },
     "execution_count": 9,
     "metadata": {},
     "output_type": "execute_result"
    }
   ],
   "source": [
    "# Conjunto agora, o set ( conjunto )\n",
    "compraMercado={\"Azeite\",\"Feijao\",\"Pao de forma\",\"Pao de forma\",\"Azeite\",\"Pao de queijo\"}\n",
    "compraMercado"
   ]
  },
  {
   "cell_type": "code",
   "execution_count": 10,
   "metadata": {},
   "outputs": [
    {
     "data": {
      "text/plain": [
       "set"
      ]
     },
     "execution_count": 10,
     "metadata": {},
     "output_type": "execute_result"
    }
   ],
   "source": [
    "type(compraMercado)"
   ]
  },
  {
   "cell_type": "markdown",
   "metadata": {},
   "source": [
    "### Por ultimo o dicionário"
   ]
  },
  {
   "cell_type": "code",
   "execution_count": 11,
   "metadata": {},
   "outputs": [
    {
     "name": "stdout",
     "output_type": "stream",
     "text": [
      "6\n",
      "Core i7: 6\n",
      "Ryzen 7: 2\n",
      "Macbook 8: 14\n",
      "Notebook core 2 duo: 5\n",
      "ThreadRipper: 2\n"
     ]
    }
   ],
   "source": [
    "# Criaremos o dicionário para passar valores de quantos itens estão disponíveis.\n",
    "pcgamer={\n",
    "    \"Core i7\": 6,\n",
    "    \"Ryzen 7\": 2,\n",
    "    \"Macbook 8\": 14,\n",
    "    \"Notebook core 2 duo\":5\n",
    "}\n",
    "print(pcgamer[\"Core i7\"]) # Saída: 6 pois é o valor contido no iten do dicionario\n",
    "# Adicionando um novo item\n",
    "pcgamer[\"ThreadRipper\"]=2\n",
    "# exibindo no print\n",
    "for peca,quantidade in pcgamer.items():\n",
    "    print(f'{peca}: {quantidade}') "
   ]
  },
  {
   "cell_type": "markdown",
   "metadata": {},
   "source": [
    "Criar um dicionario estudo quinta\n",
    "criar um dicionario estudo sexta\n",
    "e dizer quanto tempo vou gastar para estudar\n",
    "objeto: 5 minutos\n",
    "classe: 10 minutos\n",
    "método: 5 minutos\n",
    "\n",
    "Depois criar no dicionario de sexta\n",
    "---Quinta-Feira---\n",
    "\n",
    "Orientação a objetos\n",
    "- Paradigma\n",
    "- Objeto\n",
    "- Classe\n",
    "- Método\n",
    "- Herança\n",
    "- Polimorfismo\n",
    "- Encapsulamento\n",
    "\n",
    "---Sexta-Feira---\n",
    "Estatística\n",
    "\n",
    "- Média : 5\n",
    "- Mediana : 10\n",
    "- Moda : 10\n",
    "- Quartis : 40\n",
    "- Desvio Padrão : 60\n"
   ]
  },
  {
   "cell_type": "code",
   "execution_count": 12,
   "metadata": {},
   "outputs": [
    {
     "name": "stdout",
     "output_type": "stream",
     "text": [
      "Apartamento tem quatro quartos quartos, 1200 de aluguel,6 janelas\n"
     ]
    }
   ],
   "source": [
    "# classes começam com letras maiúsculas.\n",
    "class Imovel:\n",
    " def __init__(self,quartos, aluguel,janelas):\n",
    "  self.quarto=quartos\n",
    "  self.aluguel=aluguel\n",
    "  self.janelas=janelas\n",
    "\n",
    "meu_ap=Imovel(quartos=\"quatro quartos\",aluguel=1200,janelas=6)\n",
    "\n",
    "print(f'Apartamento tem {meu_ap.quarto} quartos, {meu_ap.aluguel} de aluguel,{meu_ap.janelas} janelas')"
   ]
  },
  {
   "cell_type": "markdown",
   "metadata": {},
   "source": [
    "# DataFrame são as de duas dimensões, com linhas e colunas.\n",
    "# Existem os arrays (possui apenas uma dimensão)\n",
    "\n",
    "# As listas são mutáveis []\n",
    "# As tuplas não são mutáveis ()\n",
    "# Os Dicionários podem receber novos valores {}\n",
    "\n",
    "# OS parenteses representam o construtor da classe no caso class imovel( aqui é o construtor.)\n",
    "# As tuplas, listas, são passados como parametros.\n",
    "\n",
    "# O construtor tem o mesmo nome da classe."
   ]
  }
 ],
 "metadata": {
  "kernelspec": {
   "display_name": ".venv",
   "language": "python",
   "name": "python3"
  },
  "language_info": {
   "codemirror_mode": {
    "name": "ipython",
    "version": 3
   },
   "file_extension": ".py",
   "mimetype": "text/x-python",
   "name": "python",
   "nbconvert_exporter": "python",
   "pygments_lexer": "ipython3",
   "version": "3.12.4"
  }
 },
 "nbformat": 4,
 "nbformat_minor": 2
}
